{
 "cells": [
  {
   "cell_type": "code",
   "execution_count": 37,
   "metadata": {},
   "outputs": [],
   "source": [
    "def solution(s):\n",
    "    answer = ''\n",
    "    offset = [4, 3, 3, 5, 4, 4, 3, 5, 5, 4]\n",
    "    one_term = {'z': 0, 'o': 1, 'e': 8, 'n': 9 }\n",
    "    two_term = {'tw':2, 'th':3,'fo':4,'fi':5,'si':6,'se':7}\n",
    "\n",
    "    flag = ''\n",
    "    spend = 0\n",
    "    for c in s :\n",
    "        if spend :\n",
    "            spend -= 1\n",
    "            continue\n",
    "\n",
    "        #첫 글자라면\n",
    "        if not flag:\n",
    "            #숫자라면 숫자를 그대로 입력\n",
    "            if c.isdigit() :\n",
    "                answer += str(c)\n",
    "                print(answer)\n",
    "                spend = 0\n",
    "                continue\n",
    "\n",
    "            #한글자로 판별할 수 있는 문자형 숫자라면 변환\n",
    "            elif c in one_term.keys() :\n",
    "                answer += str(one_term[c])\n",
    "                print(answer)\n",
    "                spend = offset[one_term[c]] - 1\n",
    "                continue\n",
    "            #한글자로 판별할 수 없는 문자형 숫자라면 flag를 설정해서 구분\n",
    "            else :\n",
    "                flag = c\n",
    "                print('flag:', flag)\n",
    "                continue\n",
    "        #두번째 글자라면\n",
    "        if flag :\n",
    "            flag += c\n",
    "            print(flag)\n",
    "            answer += str(two_term[flag])\n",
    "            print(answer)\n",
    "            spend = offset[two_term[flag]] - 2\n",
    "            flag = ''\n",
    "            continue\n",
    "            \n",
    "    return int(answer)"
   ]
  },
  {
   "cell_type": "code",
   "execution_count": null,
   "metadata": {},
   "outputs": [],
   "source": []
  }
 ],
 "metadata": {
  "kernelspec": {
   "display_name": "Python 3",
   "language": "python",
   "name": "python3"
  },
  "language_info": {
   "codemirror_mode": {
    "name": "ipython",
    "version": 3
   },
   "file_extension": ".py",
   "mimetype": "text/x-python",
   "name": "python",
   "nbconvert_exporter": "python",
   "pygments_lexer": "ipython3",
   "version": "3.8.5"
  }
 },
 "nbformat": 4,
 "nbformat_minor": 4
}
