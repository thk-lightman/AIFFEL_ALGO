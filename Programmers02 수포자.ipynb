{
 "cells": [
  {
   "cell_type": "code",
   "execution_count": 1,
   "metadata": {},
   "outputs": [],
   "source": [
    "def solution(answers):\n",
    "    '''\n",
    "    Input: answers:List :: Answer list\n",
    "    Output: answer:List :: top person who answered correctly\n",
    "    O(N*3)\n",
    "    '''\n",
    "    import pandas as pd\n",
    "    first = [1,2,3,4,5]\n",
    "    second = [2,1,2,3,2,4,2,5]\n",
    "    third = [3,3,1,1,2,2,4,4,5,5]\n",
    "\n",
    "    len_f = len(first)\n",
    "    len_s = len(second)\n",
    "    len_t = len(third)\n",
    "    \n",
    "    count = pd.Series([0, 0, 0], index = [1, 2, 3])\n",
    "    for i, ans in enumerate( answers ) :\n",
    "        if first[i%len_f] == ans:\n",
    "            count.iloc[0] += 1\n",
    "        if second[i%len_s] == ans:\n",
    "            count.iloc[1] += 1\n",
    "        if third[i%len_t] == ans:\n",
    "            count.iloc[2] += 1\n",
    "            \n",
    "    count = count[count == count.max()]\n",
    "    answer = list(count.index)\n",
    "    return answer"
   ]
  },
  {
   "cell_type": "code",
   "execution_count": null,
   "metadata": {},
   "outputs": [],
   "source": []
  }
 ],
 "metadata": {
  "kernelspec": {
   "display_name": "Python 3",
   "language": "python",
   "name": "python3"
  },
  "language_info": {
   "codemirror_mode": {
    "name": "ipython",
    "version": 3
   },
   "file_extension": ".py",
   "mimetype": "text/x-python",
   "name": "python",
   "nbconvert_exporter": "python",
   "pygments_lexer": "ipython3",
   "version": "3.8.5"
  }
 },
 "nbformat": 4,
 "nbformat_minor": 4
}
