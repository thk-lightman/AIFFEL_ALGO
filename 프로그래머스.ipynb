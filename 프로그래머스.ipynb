{
 "cells": [
  {
   "cell_type": "code",
   "execution_count": null,
   "metadata": {},
   "outputs": [],
   "source": []
  },
  {
   "cell_type": "code",
   "execution_count": null,
   "metadata": {},
   "outputs": [],
   "source": [
    "def solution(answers):\n",
    "    answer = []\n",
    "    scores = [0,0,0]\n",
    "    \n",
    "    first = [1,2,3,4,5]\n",
    "    second = [2,1,2,3,2,4,2,5]\n",
    "    third = [3,3,1,1,2,2,4,4,5,5]\n",
    "\n",
    "    for i, value in enumerate(answer) :\n",
    "        if first[i%len(first)] == value:\n",
    "            scores[0] += 1\n",
    "        if second[i%len(second)] == value:\n",
    "            scores[1] += 1\n",
    "        if third[i%len(third)] == value:\n",
    "            scores[2] += 1\n",
    "    \n",
    "    return answer"
   ]
  }
 ],
 "metadata": {
  "kernelspec": {
   "display_name": "Python 3",
   "language": "python",
   "name": "python3"
  },
  "language_info": {
   "codemirror_mode": {
    "name": "ipython",
    "version": 3
   },
   "file_extension": ".py",
   "mimetype": "text/x-python",
   "name": "python",
   "nbconvert_exporter": "python",
   "pygments_lexer": "ipython3",
   "version": "3.8.5"
  }
 },
 "nbformat": 4,
 "nbformat_minor": 4
}
