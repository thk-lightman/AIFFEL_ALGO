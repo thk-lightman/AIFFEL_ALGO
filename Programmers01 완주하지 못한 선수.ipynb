{
 "cells": [
  {
   "cell_type": "code",
   "execution_count": 9,
   "metadata": {},
   "outputs": [],
   "source": [
    "#시간복잡도: O(n+logn)\n",
    "#공간복잡도: O(n)\n",
    "def solution(participant, completion):\n",
    "    from copy import deepcopy\n",
    "    list_p = sorted(deepcopy(participant))\n",
    "    list_c = sorted(deepcopy(completion))\n",
    "    for comp in list_c :\n",
    "        for idx, part in enumerate(list_p) :\n",
    "            print(comp, part)\n",
    "            if comp == part :\n",
    "                print(comp, part, '!!!')\n",
    "                del list_p[idx]\n",
    "#                 print(list_p)\n",
    "                break\n",
    "    answer = list_p[0]\n",
    "    return answer"
   ]
  },
  {
   "cell_type": "code",
   "execution_count": 29,
   "metadata": {},
   "outputs": [],
   "source": [
    "#기민\n",
    "\n",
    "def solution2(participant, completion):\n",
    "    from collections import Counter\n",
    "    return list(Counter(participant) - Counter(completion)).pop()"
   ]
  },
  {
   "cell_type": "code",
   "execution_count": 26,
   "metadata": {},
   "outputs": [],
   "source": [
    "from copy import deepcopy\n",
    "list = [1,2,2,3]\n",
    "list2 = deepcopy(list)\n",
    "assert id(list) != id(list2)"
   ]
  },
  {
   "cell_type": "code",
   "execution_count": null,
   "metadata": {},
   "outputs": [],
   "source": [
    "#지은"
   ]
  }
 ],
 "metadata": {
  "kernelspec": {
   "display_name": "Python 3",
   "language": "python",
   "name": "python3"
  },
  "language_info": {
   "codemirror_mode": {
    "name": "ipython",
    "version": 3
   },
   "file_extension": ".py",
   "mimetype": "text/x-python",
   "name": "python",
   "nbconvert_exporter": "python",
   "pygments_lexer": "ipython3",
   "version": "3.8.5"
  }
 },
 "nbformat": 4,
 "nbformat_minor": 4
}
