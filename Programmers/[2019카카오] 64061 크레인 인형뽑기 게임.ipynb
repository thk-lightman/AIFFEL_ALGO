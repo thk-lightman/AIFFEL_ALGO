{
 "cells": [
  {
   "cell_type": "code",
   "execution_count": 67,
   "metadata": {},
   "outputs": [],
   "source": [
    "'''\n",
    "- 문제설명\n",
    "    인형이 채워진 N*N 격자에서 크레인으로 인형을 뽑아내어 통에 담을때,\n",
    "    같은 모양의 인형 2개가 모이면 사라집니다.\n",
    "    이때 사라진 인형의 개수를 구하세요.\n",
    "- 제한사항\n",
    "    board 배열은 2차원 배열로 크기는 \"5 x 5\" 이상 \"30 x 30\" 이하입니다.\n",
    "    board의 각 칸에는 0 이상 100 이하인 정수가 담겨있습니다.\n",
    "    0은 빈 칸을 나타냅니다.\n",
    "    1 ~ 100의 각 숫자는 각기 다른 인형의 모양을 의미하며 같은 숫자는 같은 모양의 인형을 나타냅니다.\n",
    "    moves 배열의 크기는 1 이상 1,000 이하입니다.\n",
    "    moves 배열 각 원소들의 값은 1 이상이며 board 배열의 가로 크기 이하인 자연수입니다.\n",
    "- 아이디어\n",
    "    스택을 이용한다.\n",
    "    보드의 각 열을 스택으로 생각하고, 값이 있다면 pop, 없다면 그대로 둔다.\n",
    "    이때 pop값이 box의 맨 위 값과 같으면 사라진다.\n",
    "    pop값이 box의 맨 위 값과 다르면 box에 append된다.\n",
    "'''\n",
    "def solution(board, moves):\n",
    "    count = 0\n",
    "    doll = 0\n",
    "    box = []\n",
    "    N = len(board)\n",
    "    \n",
    "    #기존의 board를 stack의 리스트로 만든다\n",
    "    new_stack = [x[:] for x in [[]] * N]\n",
    "    for j in range(N):\n",
    "        for i in reversed(range(N)):\n",
    "            if board[i][j]:\n",
    "                new_stack[j].append(board[i][j])\n",
    "    \n",
    "    #moves를 인덱스로 하여 스택에 접근한다\n",
    "    for i in moves:\n",
    "        idx = i - 1\n",
    "        if new_stack[idx][-1:]:          #new_stack[idx]에 값이 있으면\n",
    "            doll = new_stack[idx].pop()  #인형을 뽑아내서\n",
    "            top = box[-1:]                \n",
    "            if top and doll == top[0] : #box의 가장 위 인형과 비교한다\n",
    "                box.pop()                #같으면 box에서 뽑아내고 count += 2\n",
    "                count += 2\n",
    "            else :\n",
    "                box.append(doll)         #다르면 box에 뽑은 인형을 추가\n",
    "\n",
    "    return count"
   ]
  },
  {
   "cell_type": "code",
   "execution_count": 70,
   "metadata": {
    "scrolled": true
   },
   "outputs": [
    {
     "name": "stdout",
     "output_type": "stream",
     "text": [
      "1번째 스택에서 뽑아낸 인형은 4 box의 인형은 []\n",
      "박스에 4을 push한다\n",
      "[4]\n",
      "5번째 스택에서 뽑아낸 인형은 3 box의 인형은 [4]\n",
      "박스에 3을 push한다\n",
      "[4, 3]\n",
      "3번째 스택에서 뽑아낸 인형은 1 box의 인형은 [3]\n",
      "박스에 1을 push한다\n",
      "[4, 3, 1]\n",
      "5번째 스택에서 뽑아낸 인형은 1 box의 인형은 [1]\n",
      "박스에서 1을 뽑아내고 count를 2증가시킨다\n",
      "1번째 스택에서 뽑아낸 인형은 3 box의 인형은 [3]\n",
      "박스에서 3을 뽑아내고 count를 2증가시킨다\n",
      "2번째 스택에서 뽑아낸 인형은 2 box의 인형은 [4]\n",
      "박스에 2을 push한다\n",
      "[4, 2]\n",
      "4번째 스택에서 뽑아낸 인형은 4 box의 인형은 [2]\n",
      "박스에 4을 push한다\n",
      "[4, 2, 4]\n"
     ]
    },
    {
     "data": {
      "text/plain": [
       "4"
      ]
     },
     "execution_count": 70,
     "metadata": {},
     "output_type": "execute_result"
    }
   ],
   "source": [
    "solution([[0,0,0,0,0],[0,0,1,0,3],[0,2,5,0,1],[4,2,4,4,2],[3,5,1,3,1]], [1,5,3,5,1,2,1,4])"
   ]
  },
  {
   "cell_type": "code",
   "execution_count": 69,
   "metadata": {},
   "outputs": [],
   "source": [
    "'''\n",
    "- 문제설명\n",
    "    인형이 채워진 N*N 격자에서 크레인으로 인형을 뽑아내어 통에 담을때,\n",
    "    같은 모양의 인형 2개가 모이면 사라집니다.\n",
    "    이때 사라진 인형의 개수를 구하세요.\n",
    "- 제한사항\n",
    "    board 배열은 2차원 배열로 크기는 \"5 x 5\" 이상 \"30 x 30\" 이하입니다.\n",
    "    board의 각 칸에는 0 이상 100 이하인 정수가 담겨있습니다.\n",
    "    0은 빈 칸을 나타냅니다.\n",
    "    1 ~ 100의 각 숫자는 각기 다른 인형의 모양을 의미하며 같은 숫자는 같은 모양의 인형을 나타냅니다.\n",
    "    moves 배열의 크기는 1 이상 1,000 이하입니다.\n",
    "    moves 배열 각 원소들의 값은 1 이상이며 board 배열의 가로 크기 이하인 자연수입니다.\n",
    "- 아이디어\n",
    "    스택을 이용한다.\n",
    "    보드의 각 열을 스택으로 생각하고, 값이 있다면 pop, 없다면 그대로 둔다.\n",
    "    이때 pop값이 box의 맨 위 값과 같으면 사라진다.\n",
    "    pop값이 box의 맨 위 값과 다르면 box에 append된다.\n",
    "'''\n",
    "def solution(board, moves):\n",
    "    count = 0\n",
    "    doll = 0\n",
    "    box = []\n",
    "    N = len(board)\n",
    "    \n",
    "    new_stack = [x[:] for x in [[]] * N]\n",
    "    for j in range(N):\n",
    "        for i in reversed(range(N)):\n",
    "            if board[i][j]:\n",
    "                new_stack[j].append(board[i][j])\n",
    "    \n",
    "    for i in moves:\n",
    "        idx = i - 1\n",
    "        if new_stack[idx][-1:]:\n",
    "            doll = new_stack[idx].pop()\n",
    "#         try:\n",
    "#             doll = new_stack[idx].pop()\n",
    "#         except IndexError as e:\n",
    "#             print(e)\n",
    "#             pass\n",
    "#         else:\n",
    "            top = box[-1:]\n",
    "            print(f'{i}번째 스택에서 뽑아낸 인형은 {doll} box의 인형은 {top}')\n",
    "\n",
    "            if top and doll == top[0] :\n",
    "                print(f'박스에서 {doll}을 뽑아내고 count를 2증가시킨다')\n",
    "                box.pop()\n",
    "                count += 2\n",
    "            else :\n",
    "                print(f'박스에 {doll}을 push한다')\n",
    "                box.append(doll)\n",
    "                print(box)\n",
    "\n",
    "    return count"
   ]
  },
  {
   "cell_type": "code",
   "execution_count": 42,
   "metadata": {},
   "outputs": [
    {
     "data": {
      "text/plain": [
       "[[2], [], [], [], []]"
      ]
     },
     "execution_count": 42,
     "metadata": {},
     "output_type": "execute_result"
    }
   ],
   "source": [
    "new_stack = [x[:] for x in [[]] * 5] #이거 대체 뭐지 ?\n",
    "new_stack[0].append(2)\n",
    "new_stack"
   ]
  },
  {
   "cell_type": "code",
   "execution_count": 46,
   "metadata": {},
   "outputs": [
    {
     "ename": "IndexError",
     "evalue": "pop from empty list",
     "output_type": "error",
     "traceback": [
      "\u001b[1;31m---------------------------------------------------------------------------\u001b[0m",
      "\u001b[1;31mIndexError\u001b[0m                                Traceback (most recent call last)",
      "\u001b[1;32m<ipython-input-46-47d711ddf6f1>\u001b[0m in \u001b[0;36m<module>\u001b[1;34m\u001b[0m\n\u001b[1;32m----> 1\u001b[1;33m \u001b[1;33m[\u001b[0m\u001b[1;33m]\u001b[0m\u001b[1;33m.\u001b[0m\u001b[0mpop\u001b[0m\u001b[1;33m(\u001b[0m\u001b[1;33m)\u001b[0m\u001b[1;33m\u001b[0m\u001b[1;33m\u001b[0m\u001b[0m\n\u001b[0m",
      "\u001b[1;31mIndexError\u001b[0m: pop from empty list"
     ]
    }
   ],
   "source": [
    "[].pop()"
   ]
  },
  {
   "cell_type": "code",
   "execution_count": 44,
   "metadata": {},
   "outputs": [
    {
     "name": "stdout",
     "output_type": "stream",
     "text": [
      "2468366077824\n",
      "2468384256832\n",
      "2468365389184\n",
      "140724856104768\n"
     ]
    }
   ],
   "source": [
    "print(id(new_stack))\n",
    "print(id(new_stack[0]))\n",
    "print(id(new_stack[1]))\n",
    "print(id(new_stack[0][0]))"
   ]
  },
  {
   "cell_type": "code",
   "execution_count": 1,
   "metadata": {},
   "outputs": [],
   "source": [
    "board = [[0,0,0,0,0],[0,0,1,0,3],[0,2,5,0,1],[4,2,4,4,2],[3,5,1,3,1]]\n",
    "new_board = [[0] * 5] * 5\n",
    "for i in range(5) :\n",
    "    for j in range(5):\n",
    "        new_board[j][i] = board[i][j]"
   ]
  },
  {
   "cell_type": "code",
   "execution_count": 8,
   "metadata": {},
   "outputs": [
    {
     "data": {
      "text/plain": [
       "[4, 2, 4, 4, 2]"
      ]
     },
     "execution_count": 8,
     "metadata": {},
     "output_type": "execute_result"
    }
   ],
   "source": [
    "board[:][3] "
   ]
  },
  {
   "cell_type": "code",
   "execution_count": 12,
   "metadata": {},
   "outputs": [],
   "source": [
    "a = []\n",
    "for i in reversed(range(5)) :\n",
    "    if board[i][1]:\n",
    "        a.append(board[i][1])"
   ]
  },
  {
   "cell_type": "code",
   "execution_count": 13,
   "metadata": {},
   "outputs": [
    {
     "data": {
      "text/plain": [
       "[5, 2, 2]"
      ]
     },
     "execution_count": 13,
     "metadata": {},
     "output_type": "execute_result"
    }
   ],
   "source": [
    "a"
   ]
  },
  {
   "cell_type": "code",
   "execution_count": 7,
   "metadata": {},
   "outputs": [
    {
     "ename": "TypeError",
     "evalue": "'int' object is not reversible",
     "output_type": "error",
     "traceback": [
      "\u001b[1;31m---------------------------------------------------------------------------\u001b[0m",
      "\u001b[1;31mTypeError\u001b[0m                                 Traceback (most recent call last)",
      "\u001b[1;32m<ipython-input-7-c49e89de7118>\u001b[0m in \u001b[0;36m<module>\u001b[1;34m\u001b[0m\n\u001b[1;32m----> 1\u001b[1;33m \u001b[0mreversed\u001b[0m\u001b[1;33m(\u001b[0m\u001b[0mboard\u001b[0m\u001b[1;33m[\u001b[0m\u001b[0mi\u001b[0m\u001b[1;33m]\u001b[0m\u001b[1;33m[\u001b[0m\u001b[1;36m3\u001b[0m\u001b[1;33m]\u001b[0m\u001b[1;33m)\u001b[0m\u001b[1;33m.\u001b[0m\u001b[0mpop\u001b[0m\u001b[1;33m(\u001b[0m\u001b[1;33m)\u001b[0m\u001b[1;33m\u001b[0m\u001b[1;33m\u001b[0m\u001b[0m\n\u001b[0m",
      "\u001b[1;31mTypeError\u001b[0m: 'int' object is not reversible"
     ]
    }
   ],
   "source": [
    "if not board[i][3] :\n",
    "    board[:][3].pop()\n",
    "reversed(board[i][3]).pop()"
   ]
  },
  {
   "cell_type": "code",
   "execution_count": null,
   "metadata": {},
   "outputs": [],
   "source": []
  }
 ],
 "metadata": {
  "kernelspec": {
   "display_name": "Python 3",
   "language": "python",
   "name": "python3"
  },
  "language_info": {
   "codemirror_mode": {
    "name": "ipython",
    "version": 3
   },
   "file_extension": ".py",
   "mimetype": "text/x-python",
   "name": "python",
   "nbconvert_exporter": "python",
   "pygments_lexer": "ipython3",
   "version": "3.8.5"
  }
 },
 "nbformat": 4,
 "nbformat_minor": 4
}
