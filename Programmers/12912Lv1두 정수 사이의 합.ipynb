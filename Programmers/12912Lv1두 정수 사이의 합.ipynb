{
 "cells": [
  {
   "cell_type": "code",
   "execution_count": null,
   "metadata": {},
   "outputs": [],
   "source": [
    "'''\n",
    "두 정수 a, b가 주어졌을 때 a와 b 사이에 속한 모든 정수의 합을 리턴하는 함수, solution을 완성하세요.\n",
    "예를 들어 a = 3, b = 5인 경우, 3 + 4 + 5 = 12이므로 12를 리턴합니다.\n",
    "제한 조건\n",
    "a와 b가 같은 경우는 둘 중 아무 수나 리턴하세요.\n",
    "a와 b는 -10,000,000 이상 10,000,000 이하인 정수입니다.\n",
    "a와 b의 대소관계는 정해져있지 않습니다.\n",
    "'''"
   ]
  },
  {
   "cell_type": "code",
   "execution_count": 13,
   "metadata": {},
   "outputs": [],
   "source": [
    "def solution(a, b):\n",
    "    '''\n",
    "    Time Complexity : O(1)\n",
    "    '''\n",
    "    return int(( a + b ) * (abs(b - a) + 1) / 2)"
   ]
  },
  {
   "cell_type": "code",
   "execution_count": null,
   "metadata": {},
   "outputs": [],
   "source": [
    "def solution(a, b):\n",
    "    '''\n",
    "    Time Complexity\n",
    "    '''\n",
    "    sum = 0\n",
    "    for i in range(min(a,b), max(a,b)+1):\n",
    "        sum += i\n",
    "    return sum"
   ]
  },
  {
   "cell_type": "code",
   "execution_count": 11,
   "metadata": {},
   "outputs": [
    {
     "data": {
      "text/plain": [
       "11680"
      ]
     },
     "execution_count": 11,
     "metadata": {},
     "output_type": "execute_result"
    }
   ],
   "source": [
    "def solution2(a, b):\n",
    "    '''\n",
    "    Time Complexity: O(n)\n",
    "    '''\n",
    "    if a > b: a, b = b, a\n",
    "    return sum(range(a,b+1))"
   ]
  },
  {
   "cell_type": "code",
   "execution_count": null,
   "metadata": {},
   "outputs": [],
   "source": [
    "def solution(a, b):\n",
    "    a, b = sorted([a, b])\n",
    "    answer = sum(range(a, b + 1))\n",
    "    return answer"
   ]
  },
  {
   "cell_type": "code",
   "execution_count": null,
   "metadata": {},
   "outputs": [],
   "source": [
    "import sys\n",
    "input = sys.stdin.readline\n",
    "\n",
    "tmp = input().split()\n",
    "try:\n",
    "    a, b = map(int, tmp)\n",
    "except:\n",
    "    print('다시 입력하세요.')\n",
    "\n",
    "answer = solution(a, b)\n",
    "print(answer)"
   ]
  },
  {
   "cell_type": "code",
   "execution_count": null,
   "metadata": {},
   "outputs": [],
   "source": [
    "#pypy"
   ]
  }
 ],
 "metadata": {
  "kernelspec": {
   "display_name": "Python 3",
   "language": "python",
   "name": "python3"
  },
  "language_info": {
   "codemirror_mode": {
    "name": "ipython",
    "version": 3
   },
   "file_extension": ".py",
   "mimetype": "text/x-python",
   "name": "python",
   "nbconvert_exporter": "python",
   "pygments_lexer": "ipython3",
   "version": "3.8.5"
  }
 },
 "nbformat": 4,
 "nbformat_minor": 4
}
