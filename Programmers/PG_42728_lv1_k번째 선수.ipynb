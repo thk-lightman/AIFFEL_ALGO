{
 "cells": [
  {
   "cell_type": "code",
   "execution_count": null,
   "metadata": {},
   "outputs": [],
   "source": [
    "array : [1,2,3,4,5,6,7,1,2,14]\n",
    "commands : [i1, j1, k1] [] ...\n",
    "#O(nlogn) : 퀵소트, tim sort\n",
    "def solution(array, commands):\n",
    "    answer = [] \n",
    "    for command in commands :\n",
    "        i, j, k = command\n",
    "        answer.append(sorted(array[i-1:j])[k-1])\n",
    "    return answer"
   ]
  }
 ],
 "metadata": {
  "kernelspec": {
   "display_name": "Python 3",
   "language": "python",
   "name": "python3"
  },
  "language_info": {
   "codemirror_mode": {
    "name": "ipython",
    "version": 3
   },
   "file_extension": ".py",
   "mimetype": "text/x-python",
   "name": "python",
   "nbconvert_exporter": "python",
   "pygments_lexer": "ipython3",
   "version": "3.8.5"
  }
 },
 "nbformat": 4,
 "nbformat_minor": 4
}
