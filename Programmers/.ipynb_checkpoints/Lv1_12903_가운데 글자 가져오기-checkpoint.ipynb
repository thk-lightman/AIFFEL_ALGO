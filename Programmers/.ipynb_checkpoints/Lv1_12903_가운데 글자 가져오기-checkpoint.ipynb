{
 "cells": [
  {
   "cell_type": "code",
   "execution_count": 1,
   "metadata": {},
   "outputs": [
    {
     "data": {
      "text/plain": [
       "'문제 설명\\n단어 s의 가운데 글자를 반환하는 함수, solution을 만들어 보세요. 단어의 길이가 짝수라면 가운데 두글자를 반환하면 됩니다.\\n재한사항\\ns는 길이가 1 이상, 100이하인 스트링입니다.\\n입출력 예\\ns        return\\n\"abcde\" \"c\"\\n\"qwer\"\"we\"\\n'"
      ]
     },
     "execution_count": 1,
     "metadata": {},
     "output_type": "execute_result"
    }
   ],
   "source": [
    "'''문제 설명\n",
    "단어 s의 가운데 글자를 반환하는 함수, solution을 만들어 보세요. 단어의 길이가 짝수라면 가운데 두글자를 반환하면 됩니다.\n",
    "재한사항\n",
    "s는 길이가 1 이상, 100이하인 스트링입니다.\n",
    "입출력 예\n",
    "s        return\n",
    "\"abcde\" \"c\"\n",
    "\"qwer\"\"we\"\n",
    "'''"
   ]
  },
  {
   "cell_type": "code",
   "execution_count": 8,
   "metadata": {},
   "outputs": [],
   "source": [
    "def solution1(s):\n",
    "    '''\n",
    "    Time Complexity : O(1)\n",
    "    '''\n",
    "    answer = ''\n",
    "    n = len(s)\n",
    "    idx = n//2\n",
    "    if n % 2 == 0:\n",
    "        answer = s[idx-1:idx+1]\n",
    "    else :\n",
    "        answer = s[idx]\n",
    "    return answer"
   ]
  },
  {
   "cell_type": "code",
   "execution_count": 11,
   "metadata": {},
   "outputs": [],
   "source": [
    "def solution2(s):\n",
    "    return str[(len(str)-1)//2:len(str)//2+1]"
   ]
  },
  {
   "cell_type": "code",
   "execution_count": null,
   "metadata": {},
   "outputs": [],
   "source": [
    "def solution3(s):\n",
    "    mid, rmd = divmod(len(s), 2) # mid, rmd = len(s) // 2, len(s) % 2\n",
    "    answer = [s[mid] if rmd else s[mid-1:mid+1]]\n",
    "    return answer[0]"
   ]
  },
  {
   "cell_type": "code",
   "execution_count": null,
   "metadata": {},
   "outputs": [],
   "source": [
    "s = input()\n",
    "print(solution(s))"
   ]
  }
 ],
 "metadata": {
  "kernelspec": {
   "display_name": "Python 3",
   "language": "python",
   "name": "python3"
  },
  "language_info": {
   "codemirror_mode": {
    "name": "ipython",
    "version": 3
   },
   "file_extension": ".py",
   "mimetype": "text/x-python",
   "name": "python",
   "nbconvert_exporter": "python",
   "pygments_lexer": "ipython3",
   "version": "3.8.5"
  }
 },
 "nbformat": 4,
 "nbformat_minor": 4
}
