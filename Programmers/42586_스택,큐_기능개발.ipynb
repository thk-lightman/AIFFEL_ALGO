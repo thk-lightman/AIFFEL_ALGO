{
 "cells": [
  {
   "cell_type": "code",
   "execution_count": null,
   "metadata": {},
   "outputs": [],
   "source": [
    "'''\n",
    "문제 설명\n",
    "프로그래머스 팀에서는 기능 개선 작업을 수행 중입니다. 각 기능은 진도가 100%일 때 서비스에 반영할 수 있습니다.\n",
    "\n",
    "또, 각 기능의 개발속도는 모두 다르기 때문에 뒤에 있는 기능이 앞에 있는 기능보다 먼저 개발될 수 있고, 이때 뒤에 있는 기능은 앞에 있는 기능이 배포될 때 함께 배포됩니다.\n",
    "\n",
    "먼저 배포되어야 하는 순서대로 작업의 진도가 적힌 정수 배열 progresses와 각 작업의 개발 속도가 적힌 정수 배열 speeds가 주어질 때 각 배포마다 몇 개의 기능이 배포되는지를 return 하도록 solution 함수를 완성하세요.\n",
    "\n",
    "제한 사항\n",
    "작업의 개수(progresses, speeds배열의 길이)는 100개 이하입니다.\n",
    "작업 진도는 100 미만의 자연수입니다.\n",
    "작업 속도는 100 이하의 자연수입니다.\n",
    "배포는 하루에 한 번만 할 수 있으며, 하루의 끝에 이루어진다고 가정합니다. 예를 들어 진도율이 95%인 작업의 개발 속도가 하루에 4%라면 배포는 2일 뒤에 이루어집니다.\n",
    "입출력 예\n",
    "progresses\tspeeds\treturn\n",
    "[93, 30, 55]\t[1, 30, 5]\t[2, 1]\n",
    "[95, 90, 99, 99, 80, 99]\t[1, 1, 1, 1, 1, 1]\t[1, 3, 2]\n",
    "'''"
   ]
  },
  {
   "cell_type": "code",
   "execution_count": 24,
   "metadata": {},
   "outputs": [],
   "source": [
    "from collections import deque\n",
    "def solution(progresses, speeds):\n",
    "    answer = []\n",
    "    queue = deque([val for val in progresses])\n",
    "    s_queue = deque([val for val in speeds])\n",
    "    days = 1\n",
    "    count = 0\n",
    "    while days :\n",
    "#         print(f\"{days}일차\")\n",
    "        for idx, val in enumerate(s_queue) :\n",
    "            queue[idx] += val\n",
    "            \n",
    "        while True:\n",
    "            if queue[0] >= 100 :\n",
    "#                 print(queue)\n",
    "#                 print('안와??')\n",
    "                queue.popleft()\n",
    "                s_queue.popleft()\n",
    "                count += 1\n",
    "                #queue가 비었을 경우\n",
    "                if not queue :\n",
    "                    answer.append(count)\n",
    "                    return answer\n",
    "            else:\n",
    "                if count :\n",
    "                    answer.append(count)\n",
    "                count = 0\n",
    "                break\n",
    "#         days += 1\n",
    "    return answer"
   ]
  },
  {
   "cell_type": "code",
   "execution_count": 25,
   "metadata": {},
   "outputs": [
    {
     "name": "stdout",
     "output_type": "stream",
     "text": [
      "1일차\n",
      "2일차\n",
      "3일차\n",
      "4일차\n",
      "5일차\n",
      "6일차\n",
      "7일차\n",
      "deque([100, 240, 90])\n",
      "안와??\n",
      "deque([240, 90])\n",
      "안와??\n",
      "8일차\n",
      "9일차\n",
      "deque([100])\n",
      "안와??\n"
     ]
    },
    {
     "data": {
      "text/plain": [
       "[2, 1]"
      ]
     },
     "execution_count": 25,
     "metadata": {},
     "output_type": "execute_result"
    }
   ],
   "source": [
    "solution([93, 30, 55], [1, 30, 5])"
   ]
  },
  {
   "cell_type": "code",
   "execution_count": null,
   "metadata": {},
   "outputs": [],
   "source": []
  },
  {
   "cell_type": "code",
   "execution_count": null,
   "metadata": {},
   "outputs": [],
   "source": []
  }
 ],
 "metadata": {
  "kernelspec": {
   "display_name": "Python 3",
   "language": "python",
   "name": "python3"
  },
  "language_info": {
   "codemirror_mode": {
    "name": "ipython",
    "version": 3
   },
   "file_extension": ".py",
   "mimetype": "text/x-python",
   "name": "python",
   "nbconvert_exporter": "python",
   "pygments_lexer": "ipython3",
   "version": "3.8.5"
  }
 },
 "nbformat": 4,
 "nbformat_minor": 4
}
