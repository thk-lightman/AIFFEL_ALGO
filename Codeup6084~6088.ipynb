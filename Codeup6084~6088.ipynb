{
 "cells": [
  {
   "cell_type": "code",
   "execution_count": 4,
   "metadata": {},
   "outputs": [
    {
     "name": "stdout",
     "output_type": "stream",
     "text": [
      "44100 16 2 10\n",
      "1.7 MB\n"
     ]
    }
   ],
   "source": [
    "#6084\n",
    "hbcs = input().split()\n",
    "try:\n",
    "    h, b, c, s = map(int, hbcs)\n",
    "except:\n",
    "    print('여길 왜 왔어!')\n",
    "    pass\n",
    "else:\n",
    "    if (h <= 48000) and (b <= 32) and (b%8 == 0) and (c <= 5 ) and (1<= s <= 6000):\n",
    "        print(f'{h*b*c*s/8/1024/1024:.1f} MB')"
   ]
  },
  {
   "cell_type": "code",
   "execution_count": 5,
   "metadata": {},
   "outputs": [
    {
     "name": "stdout",
     "output_type": "stream",
     "text": [
      "1024 768 24\n",
      "2.25 MB\n"
     ]
    }
   ],
   "source": [
    "#6085\n",
    "whb = input().split()\n",
    "try:\n",
    "    w, h, b = map(int, whb)\n",
    "except:\n",
    "    print('여길 왜 왔어!')\n",
    "    pass\n",
    "else:\n",
    "    if (1<= w <= 1024) and (1<= h <= 1024) and (b <= 40) and (b%4 == 0):\n",
    "        print(f'{w*h*b/8/1024/1024:.2f} MB')"
   ]
  },
  {
   "cell_type": "code",
   "execution_count": 8,
   "metadata": {},
   "outputs": [
    {
     "name": "stdout",
     "output_type": "stream",
     "text": [
      "57\n",
      "66\n"
     ]
    }
   ],
   "source": [
    "#6086\n",
    "while a:=input():\n",
    "        if a.isdigit() :\n",
    "            a = int(a)\n",
    "        else:\n",
    "            continue\n",
    "\n",
    "sum = 0\n",
    "i = 0\n",
    "while sum < a :\n",
    "    sum += i\n",
    "    i += 1\n",
    "print(sum)\n"
   ]
  },
  {
   "cell_type": "code",
   "execution_count": 18,
   "metadata": {
    "scrolled": true
   },
   "outputs": [
    {
     "name": "stdout",
     "output_type": "stream",
     "text": [
      "10\n",
      "1 2 4 5 7 8 10 "
     ]
    }
   ],
   "source": [
    "#6087\n",
    "while a:=input():\n",
    "        if a.isdigit() :\n",
    "            a = int(a)\n",
    "            break\n",
    "        else:\n",
    "            continue\n",
    "if 1 <= a <= 100 :\n",
    "    result = [ x if x % 3 != 0 else None for x in range(1,a+1) ]\n",
    "    for i in result:\n",
    "        if i :\n",
    "            print(i, end = ' ')"
   ]
  },
  {
   "cell_type": "code",
   "execution_count": 19,
   "metadata": {},
   "outputs": [
    {
     "name": "stdout",
     "output_type": "stream",
     "text": [
      "1 3 5\n",
      "13\n"
     ]
    }
   ],
   "source": [
    "a,d,n = map(int, input().split())\n",
    "print(a + d*(n-1))"
   ]
  },
  {
   "cell_type": "code",
   "execution_count": null,
   "metadata": {},
   "outputs": [],
   "source": []
  }
 ],
 "metadata": {
  "kernelspec": {
   "display_name": "Python 3",
   "language": "python",
   "name": "python3"
  },
  "language_info": {
   "codemirror_mode": {
    "name": "ipython",
    "version": 3
   },
   "file_extension": ".py",
   "mimetype": "text/x-python",
   "name": "python",
   "nbconvert_exporter": "python",
   "pygments_lexer": "ipython3",
   "version": "3.8.5"
  }
 },
 "nbformat": 4,
 "nbformat_minor": 4
}
