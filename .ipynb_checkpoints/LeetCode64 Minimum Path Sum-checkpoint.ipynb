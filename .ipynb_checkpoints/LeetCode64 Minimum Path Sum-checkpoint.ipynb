{
 "cells": [
  {
   "cell_type": "code",
   "execution_count": null,
   "metadata": {},
   "outputs": [],
   "source": [
    "class Solution:\n",
    "    def minPathSum(self, grid: List[List[int]]) -> int:\n",
    "        dp = [ [0 for _ in range(len(grid[0]))]\n",
    "             for _ in range(len(grid))] #deep copy가 아닐걸 ?\n",
    "        for i in range(len(dp)):\n",
    "            for j in range(len(dp[0])):\n",
    "                dp[i][j] += grid[i][j]\n",
    "\n",
    "                if i > 0 & j > 0 :\n",
    "                    dp[i][j] += min(dp[i-1][j], dp[i][j-1])\n",
    "                elif i > 0 & j == 0:\n",
    "                    dp[i][j] += dp[i-1][j]\n",
    "                elif j > 0 & i == 0:\n",
    "                    dp[i][j] += dp[i][j-1]\n",
    "\n",
    "        return dp[len(dp)-1][len(dp[0])-1]"
   ]
  },
  {
   "cell_type": "code",
   "execution_count": 24,
   "metadata": {},
   "outputs": [],
   "source": [
    "def minPathSum(grid):\n",
    "    dp = [ [0 for _ in range(len(grid[0]))]\n",
    "         for _ in range(len(grid))] #deep copy가 아닐걸 ?\n",
    "    for i in range(len(dp)):\n",
    "        for j in range(len(dp[0])):\n",
    "            dp[i][j] += grid[i][j]\n",
    "            \n",
    "            if i > 0 & j > 0 :\n",
    "                dp[i][j] += min(dp[i-1][j], dp[i][j-1])\n",
    "            elif i > 0 & j == 0:\n",
    "                dp[i][j] += dp[i-1][j]\n",
    "            elif j > 0 & i == 0:\n",
    "                dp[i][j] += dp[i][j-1]\n",
    "    \n",
    "    return dp[len(dp)-1][len(dp[0])-1]"
   ]
  },
  {
   "cell_type": "code",
   "execution_count": 25,
   "metadata": {},
   "outputs": [
    {
     "data": {
      "text/plain": [
       "11"
      ]
     },
     "execution_count": 25,
     "metadata": {},
     "output_type": "execute_result"
    }
   ],
   "source": [
    "minPathSum([[1,2,3],[1,2,5]])"
   ]
  },
  {
   "cell_type": "code",
   "execution_count": null,
   "metadata": {},
   "outputs": [],
   "source": [
    "\"\"\"\n",
    "https://leetcode.com/problems/minimum-path-sum/\n",
    "Given a m x n grid filled with non-negative numbers, find a path from top left to bottom right which minimizes the sum of all numbers along its path.\n",
    "Note: You can only move either down or right at any point in time.\n",
    "Example:\n",
    "Input:\n",
    "[\n",
    "  [1,3,1],\n",
    "  [1,5,1],\n",
    "  [4,2,1]\n",
    "]\n",
    "Output: 7\n",
    "Explanation: Because the path 1→3→1→1→1 minimizes the sum.\n",
    "\"\"\"\n",
    "\n",
    "def minPathSum(self, grid: List[List[int]]) -> int:\n",
    "    \"\"\"\n",
    "    Brute-Force (Time Limit Exceeded)\n",
    "    Time Complexity: O(2^{m+n}) since for every move, I went through 2 options: right, down\n",
    "    Space Complexity: O(m+n) which is the sum of the depth m+n for the recursions\n",
    "    \"\"\"\n",
    "    def calPathSum(grid, i, j):\n",
    "        if i == len(grid) or j == len(grid[0]):\n",
    "            return float('inf')\n",
    "        if i == len(grid) - 1 and j == len(grid[0]) -1:\n",
    "            return grid[i][j]\n",
    "        return grid[i][j] + min(calPathSum(grid, i+1, j), calPathSum(grid, i, j+1))\n",
    "    return calPathSum(grid, 0, 0)\n",
    "\n",
    "\n",
    "def minPathSumDp(self, grid: List[List[int]]) -> int:\n",
    "    \"\"\"\n",
    "    DP with extra 2d matrix\n",
    "    Start by initializing all 0s in the same size of the 2d matrix. \n",
    "    Then from the bottom right, traverse backwards and fill in the matrix with the minimum sum (from bottom / right)\n",
    "    Note to be aware of the boundary conditions.\n",
    "    Time Complexity: O(mn) to traverse the matrix\n",
    "    Space Complexity: O(mn) to create a copy of the original matrix\n",
    "    \"\"\"\n",
    "    h = len(grid)\n",
    "    w = len(grid[0])\n",
    "    dp = [x[:] for x in [[0] * w] * h]\n",
    "        \n",
    "    for row in range(h):\n",
    "        for col in range(w):\n",
    "            if row == 0 and col == 0:\n",
    "                dp[row][col] = grid[row][col]\n",
    "            else:\n",
    "                pos1 = float('inf')\n",
    "                pos2 = float('inf')\n",
    "                if row != 0:\n",
    "                    pos1 = dp[row-1][col]\n",
    "                if col != 0:\n",
    "                    pos2 = dp[row][col-1]\n",
    "                dp[row][col] = grid[row][col] + min(pos1, pos2)\n",
    "\n",
    "    return dp[h-1][w-1]\n",
    "\n",
    "def minPathSumConstantSpace(self, grid: List[List[int]]) -> int:\n",
    "    \"\"\"\n",
    "    DP with no extra 2d matrix\n",
    "    same as the 2d matrix, but reusing the given 2d grid.\n",
    "    Time Complexity: O(mn) to traverse the matrix\n",
    "    Space Complexity: O(1) to create a copy of the original matrix\n",
    "    \"\"\" \n",
    "    for row in range(h):\n",
    "        for col in range(w):\n",
    "            if row == 0 and col == 0:\n",
    "                grid[row][col] = grid[row][col]\n",
    "            else:\n",
    "                pos1 = float('inf')\n",
    "                pos2 = float('inf')\n",
    "                if row != 0:\n",
    "                    pos1 = grid[row-1][col]\n",
    "                if col != 0:\n",
    "                    pos2 = grid[row][col-1]\n",
    "                grid[row][col] = grid[row][col] + min(pos1, pos2)\n",
    "\n",
    "    return grid[h-1][w-1]"
   ]
  }
 ],
 "metadata": {
  "kernelspec": {
   "display_name": "Python 3",
   "language": "python",
   "name": "python3"
  },
  "language_info": {
   "codemirror_mode": {
    "name": "ipython",
    "version": 3
   },
   "file_extension": ".py",
   "mimetype": "text/x-python",
   "name": "python",
   "nbconvert_exporter": "python",
   "pygments_lexer": "ipython3",
   "version": "3.8.5"
  }
 },
 "nbformat": 4,
 "nbformat_minor": 4
}
