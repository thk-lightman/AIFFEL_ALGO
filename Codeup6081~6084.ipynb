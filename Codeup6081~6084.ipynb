{
 "cells": [
  {
   "cell_type": "code",
   "execution_count": 22,
   "metadata": {},
   "outputs": [
    {
     "name": "stdout",
     "output_type": "stream",
     "text": [
      "B\n",
      "B * 1 = B\n",
      "B * 2 = 16\n",
      "B * 3 = 21\n",
      "B * 4 = 2C\n",
      "B * 5 = 37\n",
      "B * 6 = 42\n",
      "B * 7 = 4D\n",
      "B * 8 = 58\n",
      "B * 9 = 63\n",
      "B * A = 6E\n",
      "B * B = 79\n",
      "B * C = 84\n",
      "B * D = 8F\n",
      "B * E = 9A\n",
      "B * F = A5\n"
     ]
    }
   ],
   "source": [
    "#6081\n",
    "#시간복잡도: O(n)\n",
    "#공간복잡도: O(1)\n",
    "num = input()\n",
    "check = [chr(x) for x in range(ord('A'),ord('F')+1)]\n",
    "if num in check :\n",
    "    num = int(num, 16)\n",
    "    for i in range(15) :\n",
    "        print(f'{num:X} * {i+1:X} = {num * (i+1):X}')"
   ]
  },
  {
   "cell_type": "code",
   "execution_count": 39,
   "metadata": {},
   "outputs": [
    {
     "name": "stdout",
     "output_type": "stream",
     "text": [
      "20\n",
      "1 2 X 4 5 X 7 8 X 10 11 12 X 14 15 X 17 18 X 20 "
     ]
    }
   ],
   "source": [
    "#6082\n",
    "#시간복잡도: O(n+n)\n",
    "num = input()\n",
    "if num.isdigit():\n",
    "    num = int(num)\n",
    "    num_list = [x if all(['3' not in str(x),\n",
    "                        '6' not in str(x),\n",
    "                        '9' not in str(x)]) else 'X' for x in range(1, num+1)]\n",
    "    for value in num_list:\n",
    "        print(value, end=' ')"
   ]
  },
  {
   "cell_type": "code",
   "execution_count": 51,
   "metadata": {},
   "outputs": [
    {
     "name": "stdout",
     "output_type": "stream",
     "text": [
      "3 3 3\n",
      "0 0 0\n",
      "0 0 1\n",
      "0 0 2\n",
      "0 1 0\n",
      "0 1 1\n",
      "0 1 2\n",
      "0 2 0\n",
      "0 2 1\n",
      "0 2 2\n",
      "1 0 0\n",
      "1 0 1\n",
      "1 0 2\n",
      "1 1 0\n",
      "1 1 1\n",
      "1 1 2\n",
      "1 2 0\n",
      "1 2 1\n",
      "1 2 2\n",
      "2 0 0\n",
      "2 0 1\n",
      "2 0 2\n",
      "2 1 0\n",
      "2 1 1\n",
      "2 1 2\n",
      "2 2 0\n",
      "2 2 1\n",
      "2 2 2\n",
      "27\n"
     ]
    }
   ],
   "source": [
    "#6083\n",
    "#시간복잡도: O(n^3)\n",
    "rgb = input().split()\n",
    "try :\n",
    "    r, g, b = map(int, rgb)\n",
    "except:\n",
    "    pass\n",
    "else:\n",
    "    count = 0\n",
    "    for rd in range(r):\n",
    "        for gr in range(g):\n",
    "            for bl in range(b):\n",
    "                print(f'{rd} {gr} {bl}')\n",
    "                count += 1\n",
    "    print(count)"
   ]
  },
  {
   "cell_type": "code",
   "execution_count": null,
   "metadata": {},
   "outputs": [],
   "source": []
  }
 ],
 "metadata": {
  "kernelspec": {
   "display_name": "Python 3",
   "language": "python",
   "name": "python3"
  },
  "language_info": {
   "codemirror_mode": {
    "name": "ipython",
    "version": 3
   },
   "file_extension": ".py",
   "mimetype": "text/x-python",
   "name": "python",
   "nbconvert_exporter": "python",
   "pygments_lexer": "ipython3",
   "version": "3.8.5"
  }
 },
 "nbformat": 4,
 "nbformat_minor": 4
}
