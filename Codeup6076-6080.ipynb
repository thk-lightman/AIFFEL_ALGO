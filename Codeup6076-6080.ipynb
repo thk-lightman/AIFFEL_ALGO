{
 "cells": [
  {
   "cell_type": "code",
   "execution_count": 4,
   "metadata": {},
   "outputs": [
    {
     "ename": "NameError",
     "evalue": "name 'isdigit' is not defined",
     "output_type": "error",
     "traceback": [
      "\u001b[1;31m---------------------------------------------------------------------------\u001b[0m",
      "\u001b[1;31mNameError\u001b[0m                                 Traceback (most recent call last)",
      "\u001b[1;32m<ipython-input-4-5789bfcfdad3>\u001b[0m in \u001b[0;36m<module>\u001b[1;34m\u001b[0m\n\u001b[1;32m----> 1\u001b[1;33m \u001b[0mhelp\u001b[0m\u001b[1;33m(\u001b[0m\u001b[0misdigit\u001b[0m\u001b[1;33m)\u001b[0m\u001b[1;33m\u001b[0m\u001b[1;33m\u001b[0m\u001b[0m\n\u001b[0m",
      "\u001b[1;31mNameError\u001b[0m: name 'isdigit' is not defined"
     ]
    }
   ],
   "source": [
    "help(isdigit)"
   ]
  },
  {
   "cell_type": "code",
   "execution_count": 1,
   "metadata": {},
   "outputs": [
    {
     "name": "stdout",
     "output_type": "stream",
     "text": [
      "s\n",
      "invalid literal for int() with base 10: 's'\n",
      "a\n",
      "invalid literal for int() with base 10: 'a'\n",
      "q\n",
      "invalid literal for int() with base 10: 'q'\n",
      "e\n",
      "invalid literal for int() with base 10: 'e'\n",
      "r\n",
      "invalid literal for int() with base 10: 'r'\n",
      "6\n",
      "0\n",
      "1\n",
      "2\n",
      "3\n",
      "4\n",
      "5\n",
      "6\n"
     ]
    }
   ],
   "source": [
    "#6076 : 6075와 동일\n",
    "while True:\n",
    "    i = input()\n",
    "    try:\n",
    "        i = int(i)\n",
    "    except ValueError as e:\n",
    "        print(f'{e}')\n",
    "    else:\n",
    "        break\n",
    "for k in range(i+1):\n",
    "    print(k)"
   ]
  },
  {
   "cell_type": "code",
   "execution_count": 13,
   "metadata": {},
   "outputs": [
    {
     "name": "stdout",
     "output_type": "stream",
     "text": [
      "0\\\n",
      "invalid literal for int() with base 10: '0\\\\'\n",
      "0\n",
      "0\n"
     ]
    }
   ],
   "source": [
    "#6077\n",
    "#시간복잡도 O(n)\n",
    "#공간복잡도 O(1) : i, result, sum\n",
    "while True:\n",
    "    i = input()\n",
    "    try:\n",
    "        i = int(i)\n",
    "    except ValueError as e:\n",
    "        print(f'{e}')\n",
    "    else:\n",
    "        if 0 <= i <= 100 : #문제에는 1이라면서요...\n",
    "            break\n",
    "        else:\n",
    "            print('!!범위를 벗어난 정수입력!!')\n",
    "\n",
    "result = [ x for x in range(i+1) if x%2 == 0]\n",
    "sum = 0\n",
    "for i in result:\n",
    "    sum += i\n",
    "print(sum)"
   ]
  },
  {
   "cell_type": "code",
   "execution_count": 15,
   "metadata": {},
   "outputs": [
    {
     "name": "stdout",
     "output_type": "stream",
     "text": [
      "c\n",
      "c\n",
      "q\n"
     ]
    }
   ],
   "source": [
    "#6078\n",
    "#시간복잡도 O(1)\n",
    "#공간복잡도 O(1) : c\n",
    "while True:\n",
    "    c = input()\n",
    "    try:\n",
    "        c = str(c)\n",
    "    except ValueError as e:\n",
    "        print(f'{e}')\n",
    "    else:\n",
    "        print(c)\n",
    "        if c == 'q' :\n",
    "            break            "
   ]
  },
  {
   "cell_type": "code",
   "execution_count": 19,
   "metadata": {},
   "outputs": [
    {
     "name": "stdout",
     "output_type": "stream",
     "text": [
      "55\n",
      "10\n"
     ]
    }
   ],
   "source": [
    "#6077\n",
    "#시간복잡도 O(n)\n",
    "#공간복잡도 O(1) : n_sum, my_sum, i\n",
    "while True:\n",
    "    n_sum = input()\n",
    "    try:\n",
    "        n_sum = int(n_sum)\n",
    "    except ValueError as e:\n",
    "        print(f'{e}')\n",
    "    else:\n",
    "        if 0 <= n_sum <= 1000 :\n",
    "            break\n",
    "        else:\n",
    "            print('!!범위를 벗어난 정수입력!!')\n",
    "my_sum = 0\n",
    "i = 1\n",
    "while True:\n",
    "    my_sum += i\n",
    "    if my_sum >= n_sum :\n",
    "        print(i)\n",
    "        break\n",
    "    i += 1"
   ]
  },
  {
   "cell_type": "code",
   "execution_count": 23,
   "metadata": {},
   "outputs": [
    {
     "name": "stdout",
     "output_type": "stream",
     "text": [
      "2 3\n",
      "1 1\n",
      "1 2\n",
      "1 3\n",
      "2 1\n",
      "2 2\n",
      "2 3\n"
     ]
    }
   ],
   "source": [
    "#6080\n",
    "#시간복잡도 O(n²)\n",
    "#공간복잡도 O(1) : temp, n, m, i\n",
    "while True:\n",
    "    temp = input().split()\n",
    "    try:\n",
    "        n, m = map(int, temp)\n",
    "    except ValueError as e:\n",
    "        print(f'{e}')\n",
    "    else:\n",
    "        if 1 <= n <= 10 and 1 <= m <= 10 :\n",
    "            break\n",
    "        else:\n",
    "            print('!!범위를 벗어난 정수입력!!')\n",
    "# map filter 대신에 뭘 쓰자는 BW가 있었는데..\n",
    "for i in range(n):\n",
    "    for j in range(m):\n",
    "        print(f'{i+1} {j+1}')"
   ]
  }
 ],
 "metadata": {
  "kernelspec": {
   "display_name": "Python 3",
   "language": "python",
   "name": "python3"
  },
  "language_info": {
   "codemirror_mode": {
    "name": "ipython",
    "version": 3
   },
   "file_extension": ".py",
   "mimetype": "text/x-python",
   "name": "python",
   "nbconvert_exporter": "python",
   "pygments_lexer": "ipython3",
   "version": "3.8.5"
  }
 },
 "nbformat": 4,
 "nbformat_minor": 4
}
